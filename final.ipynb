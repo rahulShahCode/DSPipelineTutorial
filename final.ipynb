{
 "metadata": {
  "language_info": {
   "codemirror_mode": {
    "name": "ipython",
    "version": 3
   },
   "file_extension": ".py",
   "mimetype": "text/x-python",
   "name": "python",
   "nbconvert_exporter": "python",
   "pygments_lexer": "ipython3",
   "version": "3.8.5"
  },
  "orig_nbformat": 2,
  "kernelspec": {
   "name": "python385jvsc74a57bd0916dbcbb3f70747c44a77c7bcd40155683ae19c65e1c03b4aa3499c5328201f1",
   "display_name": "Python 3.8.5 64-bit"
  }
 },
 "nbformat": 4,
 "nbformat_minor": 2,
 "cells": [
  {
   "source": [
    "# The Evolution of the 3-Point Shot in the NBA \n",
    "## Introduction\n",
    "In 1980, the National Basketball Association (NBA) introduced the 3-point line. At the time it was not considered significant, however over time we have seen a drastic increase on the reliance of the three pointer, and today is considered an important part of any team's gameplan. Through their dominance in the mid to late 2010s, the Golden State Warriors have been recognized as having revolutionized the game and making the three pointer a must-have attribute. The logic is simple: a three-point shot is worth more than a 2-point shot, so if a team can make enough 3-point shots, this will outweigh the 2-pointers. However, there have been questions raised about the effectiveness of shooting many 3 pointers, and if it truly translates into a winnning strategy. \n",
    "\n",
    "In this analysis, I will evaluate the increase in three point shots taken since the introduction of the 3-point line, and how/if taking more three-pointers translates into more victories. Some questions that will be answered:\n",
    "\n",
    "    - Does making/shooting more 3-pointers translate into more wins? \n",
    "    - How efficient (in terms of shot-making percentage) do you have to be to make a 3-pointer more valuable than a 2-pointer? \n",
    "    - How does the league compare now vs. 40 years ago? More scoring? Do better teams make more 3-pointers? \n",
    "\n",
    "##  Gathering Data \n",
    "All of the libraries needed for this tutorial to scrape, tidy and visualize the data are imported here. "
   ],
   "cell_type": "markdown",
   "metadata": {}
  },
  {
   "cell_type": "code",
   "execution_count": null,
   "metadata": {},
   "outputs": [],
   "source": [
    "import pandas as pd \n",
    "import numpy as np \n",
    "import matplotlib.pyplot as plt \n",
    "import seaborn\n",
    "from bs4 import BeautifulSoup\n",
    "import requests"
   ]
  },
  {
   "source": [
    "## Source for Data\n",
    "I scraped data for each season since 1980 from [Basketball Reference](basketball-reference.com). Unfortunately, the table there are not static, but fortunately they had an embedded link for the table, which I was able to use to scrape the tables I wanted! The tables were stored by season, so I just gathered each team's total stats for the season and looped through each link to get every season from 1980-2021 total stats for each team. \n",
    "\n",
    "\n"
   ],
   "cell_type": "markdown",
   "metadata": {}
  },
  {
   "cell_type": "code",
   "execution_count": 9,
   "metadata": {
    "tags": []
   },
   "outputs": [
    {
     "output_type": "execute_result",
     "data": {
      "text/plain": [
       "                       Team   G    FG   FGA   3P  3PA  Season\n",
       "0        San Antonio Spurs*  82  3856  7738   52  206    1980\n",
       "1       Los Angeles Lakers*  82  3898  7368   20  100    1980\n",
       "2       Cleveland Cavaliers  82  3811  8041   36  187    1980\n",
       "3           New York Knicks  82  3802  7672   42  191    1980\n",
       "4           Boston Celtics*  82  3617  7387  162  422    1980\n",
       "..                      ...  ..   ...   ...  ...  ...     ...\n",
       "18           Atlanta Hawks*  82  3261  7027   13   75    2021\n",
       "19    Golden State Warriors  82  3527  7318   27  121    2021\n",
       "20  Portland Trail Blazers*  82  3408  7167   26  132    2021\n",
       "21                Utah Jazz  82  3382  6817   59  185    2021\n",
       "22           League Average  82  3579  7433   64  227    2021\n",
       "\n",
       "[966 rows x 7 columns]"
      ],
      "text/html": "<div>\n<style scoped>\n    .dataframe tbody tr th:only-of-type {\n        vertical-align: middle;\n    }\n\n    .dataframe tbody tr th {\n        vertical-align: top;\n    }\n\n    .dataframe thead th {\n        text-align: right;\n    }\n</style>\n<table border=\"1\" class=\"dataframe\">\n  <thead>\n    <tr style=\"text-align: right;\">\n      <th></th>\n      <th>Team</th>\n      <th>G</th>\n      <th>FG</th>\n      <th>FGA</th>\n      <th>3P</th>\n      <th>3PA</th>\n      <th>Season</th>\n    </tr>\n  </thead>\n  <tbody>\n    <tr>\n      <th>0</th>\n      <td>San Antonio Spurs*</td>\n      <td>82</td>\n      <td>3856</td>\n      <td>7738</td>\n      <td>52</td>\n      <td>206</td>\n      <td>1980</td>\n    </tr>\n    <tr>\n      <th>1</th>\n      <td>Los Angeles Lakers*</td>\n      <td>82</td>\n      <td>3898</td>\n      <td>7368</td>\n      <td>20</td>\n      <td>100</td>\n      <td>1980</td>\n    </tr>\n    <tr>\n      <th>2</th>\n      <td>Cleveland Cavaliers</td>\n      <td>82</td>\n      <td>3811</td>\n      <td>8041</td>\n      <td>36</td>\n      <td>187</td>\n      <td>1980</td>\n    </tr>\n    <tr>\n      <th>3</th>\n      <td>New York Knicks</td>\n      <td>82</td>\n      <td>3802</td>\n      <td>7672</td>\n      <td>42</td>\n      <td>191</td>\n      <td>1980</td>\n    </tr>\n    <tr>\n      <th>4</th>\n      <td>Boston Celtics*</td>\n      <td>82</td>\n      <td>3617</td>\n      <td>7387</td>\n      <td>162</td>\n      <td>422</td>\n      <td>1980</td>\n    </tr>\n    <tr>\n      <th>...</th>\n      <td>...</td>\n      <td>...</td>\n      <td>...</td>\n      <td>...</td>\n      <td>...</td>\n      <td>...</td>\n      <td>...</td>\n    </tr>\n    <tr>\n      <th>18</th>\n      <td>Atlanta Hawks*</td>\n      <td>82</td>\n      <td>3261</td>\n      <td>7027</td>\n      <td>13</td>\n      <td>75</td>\n      <td>2021</td>\n    </tr>\n    <tr>\n      <th>19</th>\n      <td>Golden State Warriors</td>\n      <td>82</td>\n      <td>3527</td>\n      <td>7318</td>\n      <td>27</td>\n      <td>121</td>\n      <td>2021</td>\n    </tr>\n    <tr>\n      <th>20</th>\n      <td>Portland Trail Blazers*</td>\n      <td>82</td>\n      <td>3408</td>\n      <td>7167</td>\n      <td>26</td>\n      <td>132</td>\n      <td>2021</td>\n    </tr>\n    <tr>\n      <th>21</th>\n      <td>Utah Jazz</td>\n      <td>82</td>\n      <td>3382</td>\n      <td>6817</td>\n      <td>59</td>\n      <td>185</td>\n      <td>2021</td>\n    </tr>\n    <tr>\n      <th>22</th>\n      <td>League Average</td>\n      <td>82</td>\n      <td>3579</td>\n      <td>7433</td>\n      <td>64</td>\n      <td>227</td>\n      <td>2021</td>\n    </tr>\n  </tbody>\n</table>\n<p>966 rows × 7 columns</p>\n</div>"
     },
     "metadata": {},
     "execution_count": 9
    }
   ],
   "source": [
    "year = 1980\n",
    "stats_url = f'https://widgets.sports-reference.com/wg.fcgi?css=1&site=bbr&url=%2Fleagues%2FNBA_{year}.html&div=div_team-stats-base'\n",
    "standings_url = f'https://widgets.sports-reference.com/wg.fcgi?css=1&site=bbr&url=%2Fleagues%2FNBA_{year}.html&div=div_misc_stats'\n",
    "df = None \n",
    "for year in range(1980, 2022):\n",
    "    if df is None: \n",
    "        df = pd.read_html(stats_url)[0]\n",
    "        df['Season'] = year \n",
    "        \n",
    "    else: \n",
    "        temp = pd.read_html(stats_url)[0]\n",
    "        temp['Season'] = year \n",
    "        df = pd.concat([df, temp])\n",
    "df = df[['Team', 'G', 'FG', 'FGA', '2P', '2PA', '2P%', '3P', '3PA', '3P%', 'PTS', 'Season']]\n",
    "df\n",
    "\n"
   ]
  },
  {
   "cell_type": "code",
   "execution_count": null,
   "metadata": {},
   "outputs": [],
   "source": []
  }
 ]
}